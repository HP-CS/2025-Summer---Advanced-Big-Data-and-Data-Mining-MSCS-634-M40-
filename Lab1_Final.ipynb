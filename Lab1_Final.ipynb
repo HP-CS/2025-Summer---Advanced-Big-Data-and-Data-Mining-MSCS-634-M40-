{
 "cells": [
  {
   "cell_type": "markdown",
   "id": "9b358661",
   "metadata": {},
   "source": [
    "# Lab 1: Data Visualization, Data Preprocessing, and Statistical Analysis\n",
    "\n",
    "**Name**: [Your Name]  \n",
    "**Course**: MSCS 634  \n",
    "**Lab**: Lab 1"
   ]
  },
  {
   "cell_type": "markdown",
   "id": "3809e863",
   "metadata": {},
   "source": [
    "## Step 1: Data Collection\n",
    "- Load the dataset\n",
    "- Display first 5 rows"
   ]
  },
  {
   "cell_type": "code",
   "execution_count": null,
   "id": "4ea789a7",
   "metadata": {},
   "outputs": [],
   "source": [
    "import pandas as pd\n",
    "\n",
    "df = pd.read_csv('Economy_of_US.csv')\n",
    "df.head()"
   ]
  },
  {
   "cell_type": "markdown",
   "id": "7e9b9ede",
   "metadata": {},
   "source": [
    "## Step 2: Data Visualization\n",
    "- Create at least 2 visualizations with descriptions"
   ]
  },
  {
   "cell_type": "code",
   "execution_count": null,
   "id": "ae08468b",
   "metadata": {},
   "outputs": [],
   "source": [
    "# Example: Scatter Plot of Inflation over Years\n",
    "import matplotlib.pyplot as plt\n",
    "df.plot(x='Year', y='Inflation', kind='scatter')\n",
    "plt.title('Inflation over Years')\n",
    "plt.show()"
   ]
  },
  {
   "cell_type": "markdown",
   "id": "e6e4f56a",
   "metadata": {},
   "source": [
    "## Step 3: Data Preprocessing\n",
    "### 1. Handling Missing Values"
   ]
  },
  {
   "cell_type": "code",
   "execution_count": null,
   "id": "348a96be",
   "metadata": {},
   "outputs": [],
   "source": [
    "df.isnull().sum()"
   ]
  },
  {
   "cell_type": "markdown",
   "id": "a71ce249",
   "metadata": {},
   "source": [
    "### 2. Outlier Detection and Removal"
   ]
  },
  {
   "cell_type": "markdown",
   "id": "a8ea7db1",
   "metadata": {},
   "source": [
    "### 3. Data Reduction"
   ]
  },
  {
   "cell_type": "markdown",
   "id": "c1d215d7",
   "metadata": {},
   "source": [
    "### 4. Data Scaling and Discretization"
   ]
  },
  {
   "cell_type": "markdown",
   "id": "163a5dac",
   "metadata": {},
   "source": [
    "## Step 4: Statistical Analysis\n",
    "### General Overview"
   ]
  },
  {
   "cell_type": "code",
   "execution_count": null,
   "id": "db1da382",
   "metadata": {},
   "outputs": [],
   "source": [
    "df.info()\n",
    "df.describe()"
   ]
  },
  {
   "cell_type": "markdown",
   "id": "c8dbe270",
   "metadata": {},
   "source": [
    "### Central Tendency Measures"
   ]
  },
  {
   "cell_type": "code",
   "execution_count": null,
   "id": "994cde90",
   "metadata": {},
   "outputs": [],
   "source": [
    "df.mean(), df.median(), df.mode().iloc[0]"
   ]
  },
  {
   "cell_type": "markdown",
   "id": "02cde76c",
   "metadata": {},
   "source": [
    "### Dispersion Measures"
   ]
  },
  {
   "cell_type": "code",
   "execution_count": null,
   "id": "f2b6f61e",
   "metadata": {},
   "outputs": [],
   "source": [
    "df.std(), df.var()"
   ]
  },
  {
   "cell_type": "markdown",
   "id": "573a60fc",
   "metadata": {},
   "source": [
    "### Correlation Analysis"
   ]
  },
  {
   "cell_type": "code",
   "execution_count": null,
   "id": "4aeb38b4",
   "metadata": {},
   "outputs": [],
   "source": [
    "df.corr()"
   ]
  }
 ],
 "metadata": {},
 "nbformat": 4,
 "nbformat_minor": 5
}
